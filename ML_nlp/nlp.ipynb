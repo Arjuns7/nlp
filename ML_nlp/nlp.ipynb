{
 "cells": [
  {
   "cell_type": "code",
   "execution_count": 1,
   "id": "375a43c1",
   "metadata": {},
   "outputs": [],
   "source": [
    "from nltk.tokenize import sent_tokenize"
   ]
  },
  {
   "cell_type": "code",
   "execution_count": 2,
   "id": "f9f8ab11",
   "metadata": {},
   "outputs": [],
   "source": [
    "\n",
    "paragraph ='''The sun's dipped below the horizon, painting the sky with hues of amber and rose. \n",
    "A soft breeze rustled the leaves, carrying with it the scent of jasmine. \n",
    "In that quiet moment, the world seemed to pause, wrapped in golden stillness.'''"
   ]
  },
  {
   "cell_type": "code",
   "execution_count": 3,
   "id": "3fd3fc60",
   "metadata": {},
   "outputs": [
    {
     "data": {
      "text/plain": [
       "[\"The sun's dipped below the horizon, painting the sky with hues of amber and rose.\",\n",
       " 'A soft breeze rustled the leaves, carrying with it the scent of jasmine.',\n",
       " 'In that quiet moment, the world seemed to pause, wrapped in golden stillness.']"
      ]
     },
     "execution_count": 3,
     "metadata": {},
     "output_type": "execute_result"
    }
   ],
   "source": [
    "sent_tokenize(paragraph)"
   ]
  },
  {
   "cell_type": "code",
   "execution_count": 4,
   "id": "94dae74f",
   "metadata": {},
   "outputs": [
    {
     "data": {
      "text/plain": [
       "['The',\n",
       " 'sun',\n",
       " \"'s\",\n",
       " 'dipped',\n",
       " 'below',\n",
       " 'the',\n",
       " 'horizon',\n",
       " ',',\n",
       " 'painting',\n",
       " 'the',\n",
       " 'sky',\n",
       " 'with',\n",
       " 'hues',\n",
       " 'of',\n",
       " 'amber',\n",
       " 'and',\n",
       " 'rose',\n",
       " '.',\n",
       " 'A',\n",
       " 'soft',\n",
       " 'breeze',\n",
       " 'rustled',\n",
       " 'the',\n",
       " 'leaves',\n",
       " ',',\n",
       " 'carrying',\n",
       " 'with',\n",
       " 'it',\n",
       " 'the',\n",
       " 'scent',\n",
       " 'of',\n",
       " 'jasmine',\n",
       " '.',\n",
       " 'In',\n",
       " 'that',\n",
       " 'quiet',\n",
       " 'moment',\n",
       " ',',\n",
       " 'the',\n",
       " 'world',\n",
       " 'seemed',\n",
       " 'to',\n",
       " 'pause',\n",
       " ',',\n",
       " 'wrapped',\n",
       " 'in',\n",
       " 'golden',\n",
       " 'stillness',\n",
       " '.']"
      ]
     },
     "execution_count": 4,
     "metadata": {},
     "output_type": "execute_result"
    }
   ],
   "source": [
    "from nltk.tokenize import word_tokenize\n",
    "\n",
    "word_tokenize(paragraph)"
   ]
  },
  {
   "cell_type": "code",
   "execution_count": 5,
   "id": "b120458f",
   "metadata": {},
   "outputs": [
    {
     "data": {
      "text/plain": [
       "['The',\n",
       " 'sun',\n",
       " \"'\",\n",
       " 's',\n",
       " 'dipped',\n",
       " 'below',\n",
       " 'the',\n",
       " 'horizon',\n",
       " ',',\n",
       " 'painting',\n",
       " 'the',\n",
       " 'sky',\n",
       " 'with',\n",
       " 'hues',\n",
       " 'of',\n",
       " 'amber',\n",
       " 'and',\n",
       " 'rose',\n",
       " '.',\n",
       " 'A',\n",
       " 'soft',\n",
       " 'breeze',\n",
       " 'rustled',\n",
       " 'the',\n",
       " 'leaves',\n",
       " ',',\n",
       " 'carrying',\n",
       " 'with',\n",
       " 'it',\n",
       " 'the',\n",
       " 'scent',\n",
       " 'of',\n",
       " 'jasmine',\n",
       " '.',\n",
       " 'In',\n",
       " 'that',\n",
       " 'quiet',\n",
       " 'moment',\n",
       " ',',\n",
       " 'the',\n",
       " 'world',\n",
       " 'seemed',\n",
       " 'to',\n",
       " 'pause',\n",
       " ',',\n",
       " 'wrapped',\n",
       " 'in',\n",
       " 'golden',\n",
       " 'stillness',\n",
       " '.']"
      ]
     },
     "execution_count": 5,
     "metadata": {},
     "output_type": "execute_result"
    }
   ],
   "source": [
    "from nltk.tokenize import wordpunct_tokenize\n",
    "wordpunct_tokenize(paragraph)"
   ]
  },
  {
   "cell_type": "code",
   "execution_count": 9,
   "id": "943904e3",
   "metadata": {},
   "outputs": [
    {
     "data": {
      "text/plain": [
       "['The',\n",
       " 'sun',\n",
       " \"'s\",\n",
       " 'dipped',\n",
       " 'below',\n",
       " 'the',\n",
       " 'horizon',\n",
       " ',',\n",
       " 'painting',\n",
       " 'the',\n",
       " 'sky',\n",
       " 'with',\n",
       " 'hues',\n",
       " 'of',\n",
       " 'amber',\n",
       " 'and',\n",
       " 'rose.',\n",
       " 'A',\n",
       " 'soft',\n",
       " 'breeze',\n",
       " 'rustled',\n",
       " 'the',\n",
       " 'leaves',\n",
       " ',',\n",
       " 'carrying',\n",
       " 'with',\n",
       " 'it',\n",
       " 'the',\n",
       " 'scent',\n",
       " 'of',\n",
       " 'jasmine.',\n",
       " 'In',\n",
       " 'that',\n",
       " 'quiet',\n",
       " 'moment',\n",
       " ',',\n",
       " 'the',\n",
       " 'world',\n",
       " 'seemed',\n",
       " 'to',\n",
       " 'pause',\n",
       " ',',\n",
       " 'wrapped',\n",
       " 'in',\n",
       " 'golden',\n",
       " 'stillness',\n",
       " '.']"
      ]
     },
     "execution_count": 9,
     "metadata": {},
     "output_type": "execute_result"
    }
   ],
   "source": [
    "from nltk.tokenize import TreebankWordTokenizer\n",
    "\n",
    "tokenizer = TreebankWordTokenizer()\n",
    "\n",
    "tokenizer.tokenize(paragraph)"
   ]
  },
  {
   "cell_type": "code",
   "execution_count": 10,
   "id": "4ac6f9d0",
   "metadata": {},
   "outputs": [],
   "source": [
    "words = [\n",
    "    \"running\",\n",
    "    \"runs\",\n",
    "    \"runner\",\n",
    "    \"happily\",\n",
    "    \"happiness\",\n",
    "    \"unhappily\",\n",
    "    \"studies\",\n",
    "    \"studying\",\n",
    "    \"studied\",\n",
    "    \"better\",\n",
    "    \"flying\",\n",
    "    \"flies\",\n",
    "    \"cats\",\n",
    "    \"boxes\",\n",
    "    \"organization\",\n",
    "    \"organizing\",\n",
    "    \"agreed\",\n",
    "    \"agreement\",\n",
    "    \"singing\",\n",
    "    \"sings\"\n",
    "]\n"
   ]
  },
  {
   "cell_type": "code",
   "execution_count": 13,
   "id": "edfa7e48",
   "metadata": {},
   "outputs": [
    {
     "name": "stdout",
     "output_type": "stream",
     "text": [
      "running----->run\n",
      "runs----->run\n",
      "runner----->runner\n",
      "happily----->happili\n",
      "happiness----->happi\n",
      "unhappily----->unhappili\n",
      "studies----->studi\n",
      "studying----->studi\n",
      "studied----->studi\n",
      "better----->better\n",
      "flying----->fli\n",
      "flies----->fli\n",
      "cats----->cat\n",
      "boxes----->box\n",
      "organization----->organ\n",
      "organizing----->organ\n",
      "agreed----->agre\n",
      "agreement----->agreement\n",
      "singing----->sing\n",
      "sings----->sing\n"
     ]
    }
   ],
   "source": [
    "from nltk.stem import PorterStemmer\n",
    "\n",
    "stemmer = PorterStemmer()\n",
    "\n",
    "for word in words:\n",
    "    print(word+\"----->\"+stemmer.stem(word))"
   ]
  },
  {
   "cell_type": "code",
   "execution_count": 15,
   "metadata": {},
   "outputs": [],
   "source": [
    "from nltk.stem import RegexpStemmer\n",
    "\n",
    "regex_stem = RegexpStemmer('ing$|s$|e$|able$',min=4)"
   ]
  },
  {
   "cell_type": "code",
   "execution_count": 20,
   "metadata": {},
   "outputs": [
    {
     "data": {
      "text/plain": [
       "'eat'"
      ]
     },
     "execution_count": 20,
     "metadata": {},
     "output_type": "execute_result"
    }
   ],
   "source": [
    "regex_stem.stem('eating')"
   ]
  },
  {
   "cell_type": "code",
   "execution_count": 21,
   "metadata": {},
   "outputs": [
    {
     "data": {
      "text/plain": [
       "'ingeat'"
      ]
     },
     "execution_count": 21,
     "metadata": {},
     "output_type": "execute_result"
    }
   ],
   "source": [
    "regex_stem.stem('ingeating')"
   ]
  },
  {
   "cell_type": "code",
   "execution_count": 35,
   "metadata": {},
   "outputs": [],
   "source": [
    "words = [\n",
    "    \"running\",\n",
    "    \"runs\",\n",
    "    \"runner\",\n",
    "    \"happily\",\n",
    "    \"happiness\",\n",
    "    \"unhappily\",\n",
    "    \"studies\",\n",
    "    \"studying\",\n",
    "    \"studied\",\n",
    "    \"better\",\n",
    "    \"flying\",\n",
    "    \"flies\",\n",
    "    \"cats\",\n",
    "    \"boxes\",\n",
    "    \"organization\",\n",
    "    \"organizing\",\n",
    "    \"agreed\",\n",
    "    \"agreement\",\n",
    "    \"singing\",\n",
    "    \"sings\"\n",
    "]\n"
   ]
  },
  {
   "cell_type": "code",
   "execution_count": 27,
   "metadata": {},
   "outputs": [],
   "source": [
    "##Snowball Stemmer\n",
    "\n",
    "from nltk.stem import SnowballStemmer\n",
    "\n",
    "snowball = SnowballStemmer('english')"
   ]
  },
  {
   "cell_type": "code",
   "execution_count": 28,
   "metadata": {},
   "outputs": [
    {
     "name": "stdout",
     "output_type": "stream",
     "text": [
      "running----->run\n",
      "runs----->run\n",
      "runner----->runner\n",
      "happily----->happili\n",
      "happiness----->happi\n",
      "unhappily----->unhappili\n",
      "studies----->studi\n",
      "studying----->studi\n",
      "studied----->studi\n",
      "better----->better\n",
      "flying----->fli\n",
      "flies----->fli\n",
      "cats----->cat\n",
      "boxes----->box\n",
      "organization----->organ\n",
      "organizing----->organ\n",
      "agreed----->agre\n",
      "agreement----->agreement\n",
      "singing----->sing\n",
      "sings----->sing\n"
     ]
    }
   ],
   "source": [
    "for word in words:\n",
    "    print(word+\"----->\"+snowball.stem(word))"
   ]
  },
  {
   "cell_type": "code",
   "execution_count": null,
   "metadata": {},
   "outputs": [],
   "source": [
    "import nltk\n",
    "nltk.download('wordnet')"
   ]
  },
  {
   "cell_type": "code",
   "execution_count": 33,
   "metadata": {},
   "outputs": [
    {
     "data": {
      "text/plain": [
       "'going'"
      ]
     },
     "execution_count": 33,
     "metadata": {},
     "output_type": "execute_result"
    }
   ],
   "source": [
    "from nltk.stem import WordNetLemmatizer\n",
    "\n",
    "wordnet = WordNetLemmatizer()\n",
    "\n",
    "wordnet.lemmatize(\"going\")"
   ]
  },
  {
   "cell_type": "code",
   "execution_count": 40,
   "metadata": {},
   "outputs": [],
   "source": [
    "words = [\n",
    "    \"running\",\n",
    "    \"runs\",\n",
    "    \"runner\",\n",
    "    \"happily\",\n",
    "    \"happiness\",\n",
    "    \"unhappily\",\n",
    "    \"studies\",\n",
    "    \"studying\",\n",
    "    \"studied\",\n",
    "    \"better\",\n",
    "    \"flying\",\n",
    "    \"flies\",\n",
    "    \"cats\",\n",
    "    \"boxes\",\n",
    "    \"organization\",\n",
    "    \"organizing\",\n",
    "    \"agreed\",\n",
    "    \"agreement\",\n",
    "    \"singing\",\n",
    "    \"sings\"\n",
    "]\n"
   ]
  },
  {
   "cell_type": "code",
   "execution_count": 42,
   "metadata": {},
   "outputs": [
    {
     "name": "stdout",
     "output_type": "stream",
     "text": [
      "running----->running\n",
      "runs----->run\n",
      "runner----->runner\n",
      "happily----->happily\n",
      "happiness----->happiness\n",
      "unhappily----->unhappily\n",
      "studies----->study\n",
      "studying----->studying\n",
      "studied----->studied\n",
      "better----->better\n",
      "flying----->flying\n",
      "flies----->fly\n",
      "cats----->cat\n",
      "boxes----->box\n",
      "organization----->organization\n",
      "organizing----->organizing\n",
      "agreed----->agreed\n",
      "agreement----->agreement\n",
      "singing----->singing\n",
      "sings----->sings\n"
     ]
    }
   ],
   "source": [
    "for word in words:\n",
    "    print(word+\"----->\"+wordnet.lemmatize(word,pos='n'))"
   ]
  }
 ],
 "metadata": {
  "kernelspec": {
   "display_name": "Python 3",
   "language": "python",
   "name": "python3"
  },
  "language_info": {
   "codemirror_mode": {
    "name": "ipython",
    "version": 3
   },
   "file_extension": ".py",
   "mimetype": "text/x-python",
   "name": "python",
   "nbconvert_exporter": "python",
   "pygments_lexer": "ipython3",
   "version": "3.12.0"
  }
 },
 "nbformat": 4,
 "nbformat_minor": 5
}
