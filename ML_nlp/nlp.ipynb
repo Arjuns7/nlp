{
 "cells": [
  {
   "cell_type": "code",
   "execution_count": 1,
   "id": "375a43c1",
   "metadata": {},
   "outputs": [],
   "source": [
    "from nltk.tokenize import sent_tokenize"
   ]
  },
  {
   "cell_type": "code",
   "execution_count": 2,
   "id": "f9f8ab11",
   "metadata": {},
   "outputs": [],
   "source": [
    "\n",
    "paragraph ='''The sun's dipped below the horizon, painting the sky with hues of amber and rose. \n",
    "A soft breeze rustled the leaves, carrying with it the scent of jasmine. \n",
    "In that quiet moment, the world seemed to pause, wrapped in golden stillness.'''"
   ]
  },
  {
   "cell_type": "code",
   "execution_count": 3,
   "id": "3fd3fc60",
   "metadata": {},
   "outputs": [
    {
     "data": {
      "text/plain": [
       "[\"The sun's dipped below the horizon, painting the sky with hues of amber and rose.\",\n",
       " 'A soft breeze rustled the leaves, carrying with it the scent of jasmine.',\n",
       " 'In that quiet moment, the world seemed to pause, wrapped in golden stillness.']"
      ]
     },
     "execution_count": 3,
     "metadata": {},
     "output_type": "execute_result"
    }
   ],
   "source": [
    "sent_tokenize(paragraph)"
   ]
  },
  {
   "cell_type": "code",
   "execution_count": 4,
   "id": "94dae74f",
   "metadata": {},
   "outputs": [
    {
     "data": {
      "text/plain": [
       "['The',\n",
       " 'sun',\n",
       " \"'s\",\n",
       " 'dipped',\n",
       " 'below',\n",
       " 'the',\n",
       " 'horizon',\n",
       " ',',\n",
       " 'painting',\n",
       " 'the',\n",
       " 'sky',\n",
       " 'with',\n",
       " 'hues',\n",
       " 'of',\n",
       " 'amber',\n",
       " 'and',\n",
       " 'rose',\n",
       " '.',\n",
       " 'A',\n",
       " 'soft',\n",
       " 'breeze',\n",
       " 'rustled',\n",
       " 'the',\n",
       " 'leaves',\n",
       " ',',\n",
       " 'carrying',\n",
       " 'with',\n",
       " 'it',\n",
       " 'the',\n",
       " 'scent',\n",
       " 'of',\n",
       " 'jasmine',\n",
       " '.',\n",
       " 'In',\n",
       " 'that',\n",
       " 'quiet',\n",
       " 'moment',\n",
       " ',',\n",
       " 'the',\n",
       " 'world',\n",
       " 'seemed',\n",
       " 'to',\n",
       " 'pause',\n",
       " ',',\n",
       " 'wrapped',\n",
       " 'in',\n",
       " 'golden',\n",
       " 'stillness',\n",
       " '.']"
      ]
     },
     "execution_count": 4,
     "metadata": {},
     "output_type": "execute_result"
    }
   ],
   "source": [
    "from nltk.tokenize import word_tokenize\n",
    "\n",
    "word_tokenize(paragraph)"
   ]
  },
  {
   "cell_type": "code",
   "execution_count": 5,
   "id": "b120458f",
   "metadata": {},
   "outputs": [
    {
     "data": {
      "text/plain": [
       "['The',\n",
       " 'sun',\n",
       " \"'\",\n",
       " 's',\n",
       " 'dipped',\n",
       " 'below',\n",
       " 'the',\n",
       " 'horizon',\n",
       " ',',\n",
       " 'painting',\n",
       " 'the',\n",
       " 'sky',\n",
       " 'with',\n",
       " 'hues',\n",
       " 'of',\n",
       " 'amber',\n",
       " 'and',\n",
       " 'rose',\n",
       " '.',\n",
       " 'A',\n",
       " 'soft',\n",
       " 'breeze',\n",
       " 'rustled',\n",
       " 'the',\n",
       " 'leaves',\n",
       " ',',\n",
       " 'carrying',\n",
       " 'with',\n",
       " 'it',\n",
       " 'the',\n",
       " 'scent',\n",
       " 'of',\n",
       " 'jasmine',\n",
       " '.',\n",
       " 'In',\n",
       " 'that',\n",
       " 'quiet',\n",
       " 'moment',\n",
       " ',',\n",
       " 'the',\n",
       " 'world',\n",
       " 'seemed',\n",
       " 'to',\n",
       " 'pause',\n",
       " ',',\n",
       " 'wrapped',\n",
       " 'in',\n",
       " 'golden',\n",
       " 'stillness',\n",
       " '.']"
      ]
     },
     "execution_count": 5,
     "metadata": {},
     "output_type": "execute_result"
    }
   ],
   "source": [
    "from nltk.tokenize import wordpunct_tokenize\n",
    "wordpunct_tokenize(paragraph)"
   ]
  },
  {
   "cell_type": "code",
   "execution_count": 9,
   "id": "943904e3",
   "metadata": {},
   "outputs": [
    {
     "data": {
      "text/plain": [
       "['The',\n",
       " 'sun',\n",
       " \"'s\",\n",
       " 'dipped',\n",
       " 'below',\n",
       " 'the',\n",
       " 'horizon',\n",
       " ',',\n",
       " 'painting',\n",
       " 'the',\n",
       " 'sky',\n",
       " 'with',\n",
       " 'hues',\n",
       " 'of',\n",
       " 'amber',\n",
       " 'and',\n",
       " 'rose.',\n",
       " 'A',\n",
       " 'soft',\n",
       " 'breeze',\n",
       " 'rustled',\n",
       " 'the',\n",
       " 'leaves',\n",
       " ',',\n",
       " 'carrying',\n",
       " 'with',\n",
       " 'it',\n",
       " 'the',\n",
       " 'scent',\n",
       " 'of',\n",
       " 'jasmine.',\n",
       " 'In',\n",
       " 'that',\n",
       " 'quiet',\n",
       " 'moment',\n",
       " ',',\n",
       " 'the',\n",
       " 'world',\n",
       " 'seemed',\n",
       " 'to',\n",
       " 'pause',\n",
       " ',',\n",
       " 'wrapped',\n",
       " 'in',\n",
       " 'golden',\n",
       " 'stillness',\n",
       " '.']"
      ]
     },
     "execution_count": 9,
     "metadata": {},
     "output_type": "execute_result"
    }
   ],
   "source": [
    "from nltk.tokenize import TreebankWordTokenizer\n",
    "\n",
    "tokenizer = TreebankWordTokenizer()\n",
    "\n",
    "tokenizer.tokenize(paragraph)"
   ]
  },
  {
   "cell_type": "code",
   "execution_count": 10,
   "id": "4ac6f9d0",
   "metadata": {},
   "outputs": [],
   "source": [
    "words = [\n",
    "    \"running\",\n",
    "    \"runs\",\n",
    "    \"runner\",\n",
    "    \"happily\",\n",
    "    \"happiness\",\n",
    "    \"unhappily\",\n",
    "    \"studies\",\n",
    "    \"studying\",\n",
    "    \"studied\",\n",
    "    \"better\",\n",
    "    \"flying\",\n",
    "    \"flies\",\n",
    "    \"cats\",\n",
    "    \"boxes\",\n",
    "    \"organization\",\n",
    "    \"organizing\",\n",
    "    \"agreed\",\n",
    "    \"agreement\",\n",
    "    \"singing\",\n",
    "    \"sings\"\n",
    "]\n"
   ]
  },
  {
   "cell_type": "code",
   "execution_count": 13,
   "id": "edfa7e48",
   "metadata": {},
   "outputs": [
    {
     "name": "stdout",
     "output_type": "stream",
     "text": [
      "running----->run\n",
      "runs----->run\n",
      "runner----->runner\n",
      "happily----->happili\n",
      "happiness----->happi\n",
      "unhappily----->unhappili\n",
      "studies----->studi\n",
      "studying----->studi\n",
      "studied----->studi\n",
      "better----->better\n",
      "flying----->fli\n",
      "flies----->fli\n",
      "cats----->cat\n",
      "boxes----->box\n",
      "organization----->organ\n",
      "organizing----->organ\n",
      "agreed----->agre\n",
      "agreement----->agreement\n",
      "singing----->sing\n",
      "sings----->sing\n"
     ]
    }
   ],
   "source": [
    "from nltk.stem import PorterStemmer\n",
    "\n",
    "stemmer = PorterStemmer()\n",
    "\n",
    "for word in words:\n",
    "    print(word+\"----->\"+stemmer.stem(word))"
   ]
  },
  {
   "cell_type": "code",
   "execution_count": 15,
   "metadata": {},
   "outputs": [],
   "source": [
    "from nltk.stem import RegexpStemmer\n",
    "\n",
    "regex_stem = RegexpStemmer('ing$|s$|e$|able$',min=4)"
   ]
  },
  {
   "cell_type": "code",
   "execution_count": 20,
   "metadata": {},
   "outputs": [
    {
     "data": {
      "text/plain": [
       "'eat'"
      ]
     },
     "execution_count": 20,
     "metadata": {},
     "output_type": "execute_result"
    }
   ],
   "source": [
    "regex_stem.stem('eating')"
   ]
  },
  {
   "cell_type": "code",
   "execution_count": 21,
   "metadata": {},
   "outputs": [
    {
     "data": {
      "text/plain": [
       "'ingeat'"
      ]
     },
     "execution_count": 21,
     "metadata": {},
     "output_type": "execute_result"
    }
   ],
   "source": [
    "regex_stem.stem('ingeating')"
   ]
  },
  {
   "cell_type": "code",
   "execution_count": 35,
   "metadata": {},
   "outputs": [],
   "source": [
    "words = [\n",
    "    \"running\",\n",
    "    \"runs\",\n",
    "    \"runner\",\n",
    "    \"happily\",\n",
    "    \"happiness\",\n",
    "    \"unhappily\",\n",
    "    \"studies\",\n",
    "    \"studying\",\n",
    "    \"studied\",\n",
    "    \"better\",\n",
    "    \"flying\",\n",
    "    \"flies\",\n",
    "    \"cats\",\n",
    "    \"boxes\",\n",
    "    \"organization\",\n",
    "    \"organizing\",\n",
    "    \"agreed\",\n",
    "    \"agreement\",\n",
    "    \"singing\",\n",
    "    \"sings\"\n",
    "]\n"
   ]
  },
  {
   "cell_type": "code",
   "execution_count": 27,
   "metadata": {},
   "outputs": [],
   "source": [
    "##Snowball Stemmer\n",
    "\n",
    "from nltk.stem import SnowballStemmer\n",
    "\n",
    "snowball = SnowballStemmer('english')"
   ]
  },
  {
   "cell_type": "code",
   "execution_count": 28,
   "metadata": {},
   "outputs": [
    {
     "name": "stdout",
     "output_type": "stream",
     "text": [
      "running----->run\n",
      "runs----->run\n",
      "runner----->runner\n",
      "happily----->happili\n",
      "happiness----->happi\n",
      "unhappily----->unhappili\n",
      "studies----->studi\n",
      "studying----->studi\n",
      "studied----->studi\n",
      "better----->better\n",
      "flying----->fli\n",
      "flies----->fli\n",
      "cats----->cat\n",
      "boxes----->box\n",
      "organization----->organ\n",
      "organizing----->organ\n",
      "agreed----->agre\n",
      "agreement----->agreement\n",
      "singing----->sing\n",
      "sings----->sing\n"
     ]
    }
   ],
   "source": [
    "for word in words:\n",
    "    print(word+\"----->\"+snowball.stem(word))"
   ]
  },
  {
   "cell_type": "code",
   "execution_count": null,
   "metadata": {},
   "outputs": [],
   "source": [
    "import nltk\n",
    "nltk.download('wordnet')"
   ]
  },
  {
   "cell_type": "code",
   "execution_count": 33,
   "metadata": {},
   "outputs": [
    {
     "data": {
      "text/plain": [
       "'going'"
      ]
     },
     "execution_count": 33,
     "metadata": {},
     "output_type": "execute_result"
    }
   ],
   "source": [
    "from nltk.stem import WordNetLemmatizer\n",
    "\n",
    "wordnet = WordNetLemmatizer()\n",
    "\n",
    "wordnet.lemmatize(\"going\")"
   ]
  },
  {
   "cell_type": "code",
   "execution_count": 40,
   "metadata": {},
   "outputs": [],
   "source": [
    "words = [\n",
    "    \"running\",\n",
    "    \"runs\",\n",
    "    \"runner\",\n",
    "    \"happily\",\n",
    "    \"happiness\",\n",
    "    \"unhappily\",\n",
    "    \"studies\",\n",
    "    \"studying\",\n",
    "    \"studied\",\n",
    "    \"better\",\n",
    "    \"flying\",\n",
    "    \"flies\",\n",
    "    \"cats\",\n",
    "    \"boxes\",\n",
    "    \"organization\",\n",
    "    \"organizing\",\n",
    "    \"agreed\",\n",
    "    \"agreement\",\n",
    "    \"singing\",\n",
    "    \"sings\"\n",
    "]\n"
   ]
  },
  {
   "cell_type": "code",
   "execution_count": 42,
   "metadata": {},
   "outputs": [
    {
     "name": "stdout",
     "output_type": "stream",
     "text": [
      "running----->running\n",
      "runs----->run\n",
      "runner----->runner\n",
      "happily----->happily\n",
      "happiness----->happiness\n",
      "unhappily----->unhappily\n",
      "studies----->study\n",
      "studying----->studying\n",
      "studied----->studied\n",
      "better----->better\n",
      "flying----->flying\n",
      "flies----->fly\n",
      "cats----->cat\n",
      "boxes----->box\n",
      "organization----->organization\n",
      "organizing----->organizing\n",
      "agreed----->agreed\n",
      "agreement----->agreement\n",
      "singing----->singing\n",
      "sings----->sings\n"
     ]
    }
   ],
   "source": [
    "for word in words:\n",
    "    print(word+\"----->\"+wordnet.lemmatize(word,pos='n'))"
   ]
  },
  {
   "cell_type": "code",
   "execution_count": 43,
   "metadata": {},
   "outputs": [],
   "source": [
    "from nltk.stem import PorterStemmer\n",
    "\n",
    "from nltk.corpus import stopwords"
   ]
  },
  {
   "cell_type": "code",
   "execution_count": 45,
   "metadata": {},
   "outputs": [],
   "source": [
    "paragraph = '''Take care of your body — sleep, eat well, move a little.\n",
    "Be kind, even when no one’s watching.\n",
    "Save some money, you’ll thank yourself later.\n",
    "And don’t forget to unplug — the real world matters too.'''"
   ]
  },
  {
   "cell_type": "code",
   "execution_count": 48,
   "metadata": {},
   "outputs": [
    {
     "data": {
      "text/plain": [
       "['a',\n",
       " 'about',\n",
       " 'above',\n",
       " 'after',\n",
       " 'again',\n",
       " 'against',\n",
       " 'ain',\n",
       " 'all',\n",
       " 'am',\n",
       " 'an',\n",
       " 'and',\n",
       " 'any',\n",
       " 'are',\n",
       " 'aren',\n",
       " \"aren't\",\n",
       " 'as',\n",
       " 'at',\n",
       " 'be',\n",
       " 'because',\n",
       " 'been',\n",
       " 'before',\n",
       " 'being',\n",
       " 'below',\n",
       " 'between',\n",
       " 'both',\n",
       " 'but',\n",
       " 'by',\n",
       " 'can',\n",
       " 'couldn',\n",
       " \"couldn't\",\n",
       " 'd',\n",
       " 'did',\n",
       " 'didn',\n",
       " \"didn't\",\n",
       " 'do',\n",
       " 'does',\n",
       " 'doesn',\n",
       " \"doesn't\",\n",
       " 'doing',\n",
       " 'don',\n",
       " \"don't\",\n",
       " 'down',\n",
       " 'during',\n",
       " 'each',\n",
       " 'few',\n",
       " 'for',\n",
       " 'from',\n",
       " 'further',\n",
       " 'had',\n",
       " 'hadn',\n",
       " \"hadn't\",\n",
       " 'has',\n",
       " 'hasn',\n",
       " \"hasn't\",\n",
       " 'have',\n",
       " 'haven',\n",
       " \"haven't\",\n",
       " 'having',\n",
       " 'he',\n",
       " \"he'd\",\n",
       " \"he'll\",\n",
       " 'her',\n",
       " 'here',\n",
       " 'hers',\n",
       " 'herself',\n",
       " \"he's\",\n",
       " 'him',\n",
       " 'himself',\n",
       " 'his',\n",
       " 'how',\n",
       " 'i',\n",
       " \"i'd\",\n",
       " 'if',\n",
       " \"i'll\",\n",
       " \"i'm\",\n",
       " 'in',\n",
       " 'into',\n",
       " 'is',\n",
       " 'isn',\n",
       " \"isn't\",\n",
       " 'it',\n",
       " \"it'd\",\n",
       " \"it'll\",\n",
       " \"it's\",\n",
       " 'its',\n",
       " 'itself',\n",
       " \"i've\",\n",
       " 'just',\n",
       " 'll',\n",
       " 'm',\n",
       " 'ma',\n",
       " 'me',\n",
       " 'mightn',\n",
       " \"mightn't\",\n",
       " 'more',\n",
       " 'most',\n",
       " 'mustn',\n",
       " \"mustn't\",\n",
       " 'my',\n",
       " 'myself',\n",
       " 'needn',\n",
       " \"needn't\",\n",
       " 'no',\n",
       " 'nor',\n",
       " 'not',\n",
       " 'now',\n",
       " 'o',\n",
       " 'of',\n",
       " 'off',\n",
       " 'on',\n",
       " 'once',\n",
       " 'only',\n",
       " 'or',\n",
       " 'other',\n",
       " 'our',\n",
       " 'ours',\n",
       " 'ourselves',\n",
       " 'out',\n",
       " 'over',\n",
       " 'own',\n",
       " 're',\n",
       " 's',\n",
       " 'same',\n",
       " 'shan',\n",
       " \"shan't\",\n",
       " 'she',\n",
       " \"she'd\",\n",
       " \"she'll\",\n",
       " \"she's\",\n",
       " 'should',\n",
       " 'shouldn',\n",
       " \"shouldn't\",\n",
       " \"should've\",\n",
       " 'so',\n",
       " 'some',\n",
       " 'such',\n",
       " 't',\n",
       " 'than',\n",
       " 'that',\n",
       " \"that'll\",\n",
       " 'the',\n",
       " 'their',\n",
       " 'theirs',\n",
       " 'them',\n",
       " 'themselves',\n",
       " 'then',\n",
       " 'there',\n",
       " 'these',\n",
       " 'they',\n",
       " \"they'd\",\n",
       " \"they'll\",\n",
       " \"they're\",\n",
       " \"they've\",\n",
       " 'this',\n",
       " 'those',\n",
       " 'through',\n",
       " 'to',\n",
       " 'too',\n",
       " 'under',\n",
       " 'until',\n",
       " 'up',\n",
       " 've',\n",
       " 'very',\n",
       " 'was',\n",
       " 'wasn',\n",
       " \"wasn't\",\n",
       " 'we',\n",
       " \"we'd\",\n",
       " \"we'll\",\n",
       " \"we're\",\n",
       " 'were',\n",
       " 'weren',\n",
       " \"weren't\",\n",
       " \"we've\",\n",
       " 'what',\n",
       " 'when',\n",
       " 'where',\n",
       " 'which',\n",
       " 'while',\n",
       " 'who',\n",
       " 'whom',\n",
       " 'why',\n",
       " 'will',\n",
       " 'with',\n",
       " 'won',\n",
       " \"won't\",\n",
       " 'wouldn',\n",
       " \"wouldn't\",\n",
       " 'y',\n",
       " 'you',\n",
       " \"you'd\",\n",
       " \"you'll\",\n",
       " 'your',\n",
       " \"you're\",\n",
       " 'yours',\n",
       " 'yourself',\n",
       " 'yourselves',\n",
       " \"you've\"]"
      ]
     },
     "execution_count": 48,
     "metadata": {},
     "output_type": "execute_result"
    }
   ],
   "source": [
    "#nltk.download('stopwords')\n",
    "stopwords.words('english')"
   ]
  },
  {
   "cell_type": "code",
   "execution_count": 51,
   "metadata": {},
   "outputs": [
    {
     "data": {
      "text/plain": [
       "list"
      ]
     },
     "execution_count": 51,
     "metadata": {},
     "output_type": "execute_result"
    }
   ],
   "source": [
    "from nltk.tokenize import sent_tokenize\n",
    "\n",
    "sentence = sent_tokenize(paragraph)\n",
    "type(sentence)"
   ]
  },
  {
   "cell_type": "code",
   "execution_count": 52,
   "metadata": {},
   "outputs": [],
   "source": [
    "#apply stopwords and filter and apply stemming\n",
    "\n",
    "for i in range(len(sentence)):\n",
    "    words =nltk.word_tokenize(sentence[i])\n",
    "    words = [stemmer.stem(word) for word in words if word not in set(stopwords.words('english'))]\n",
    "    sentence[i] = ' '.join(words)"
   ]
  },
  {
   "cell_type": "code",
   "execution_count": 53,
   "metadata": {},
   "outputs": [
    {
     "data": {
      "text/plain": [
       "['take care bodi — sleep , eat well , move littl .',\n",
       " 'be kind , even one ’ watch .',\n",
       " 'save money , ’ thank later .',\n",
       " 'and ’ forget unplug — real world matter .']"
      ]
     },
     "execution_count": 53,
     "metadata": {},
     "output_type": "execute_result"
    }
   ],
   "source": [
    "sentence"
   ]
  }
 ],
 "metadata": {
  "kernelspec": {
   "display_name": "Python 3",
   "language": "python",
   "name": "python3"
  },
  "language_info": {
   "codemirror_mode": {
    "name": "ipython",
    "version": 3
   },
   "file_extension": ".py",
   "mimetype": "text/x-python",
   "name": "python",
   "nbconvert_exporter": "python",
   "pygments_lexer": "ipython3",
   "version": "3.12.0"
  }
 },
 "nbformat": 4,
 "nbformat_minor": 5
}
