{
 "cells": [
  {
   "cell_type": "code",
   "execution_count": 1,
   "id": "aadb415b",
   "metadata": {},
   "outputs": [],
   "source": [
    "import gensim\n"
   ]
  },
  {
   "cell_type": "code",
   "execution_count": 3,
   "id": "3c452ca3",
   "metadata": {},
   "outputs": [],
   "source": [
    "from gensim.models import word2vec , KeyedVectors"
   ]
  },
  {
   "cell_type": "code",
   "execution_count": 5,
   "id": "aaddee3c",
   "metadata": {},
   "outputs": [
    {
     "name": "stdout",
     "output_type": "stream",
     "text": [
      "[==============------------------------------------] 29.6% 491.9/1662.8MB downloaded"
     ]
    },
    {
     "ename": "KeyboardInterrupt",
     "evalue": "",
     "output_type": "error",
     "traceback": [
      "\u001b[31m---------------------------------------------------------------------------\u001b[39m",
      "\u001b[31mKeyboardInterrupt\u001b[39m                         Traceback (most recent call last)",
      "\u001b[36mCell\u001b[39m\u001b[36m \u001b[39m\u001b[32mIn[5]\u001b[39m\u001b[32m, line 3\u001b[39m\n\u001b[32m      1\u001b[39m \u001b[38;5;28;01mimport\u001b[39;00m\u001b[38;5;250m \u001b[39m\u001b[34;01mgensim\u001b[39;00m\u001b[34;01m.\u001b[39;00m\u001b[34;01mdownloader\u001b[39;00m\u001b[38;5;250m \u001b[39m\u001b[38;5;28;01mas\u001b[39;00m\u001b[38;5;250m \u001b[39m\u001b[34;01mapi\u001b[39;00m\n\u001b[32m----> \u001b[39m\u001b[32m3\u001b[39m wv = \u001b[43mapi\u001b[49m\u001b[43m.\u001b[49m\u001b[43mload\u001b[49m\u001b[43m(\u001b[49m\u001b[33;43m'\u001b[39;49m\u001b[33;43mword2vec-google-news-300\u001b[39;49m\u001b[33;43m'\u001b[39;49m\u001b[43m)\u001b[49m\n\u001b[32m      5\u001b[39m vec_king = wv[\u001b[33m'\u001b[39m\u001b[33mking\u001b[39m\u001b[33m'\u001b[39m]\n",
      "\u001b[36mFile \u001b[39m\u001b[32md:\\Data science\\Python\\venv\\Lib\\site-packages\\gensim\\downloader.py:496\u001b[39m, in \u001b[36mload\u001b[39m\u001b[34m(name, return_path)\u001b[39m\n\u001b[32m    494\u001b[39m path = os.path.join(folder_dir, file_name)\n\u001b[32m    495\u001b[39m \u001b[38;5;28;01mif\u001b[39;00m \u001b[38;5;129;01mnot\u001b[39;00m os.path.exists(folder_dir):\n\u001b[32m--> \u001b[39m\u001b[32m496\u001b[39m     \u001b[43m_download\u001b[49m\u001b[43m(\u001b[49m\u001b[43mname\u001b[49m\u001b[43m)\u001b[49m\n\u001b[32m    498\u001b[39m \u001b[38;5;28;01mif\u001b[39;00m return_path:\n\u001b[32m    499\u001b[39m     \u001b[38;5;28;01mreturn\u001b[39;00m path\n",
      "\u001b[36mFile \u001b[39m\u001b[32md:\\Data science\\Python\\venv\\Lib\\site-packages\\gensim\\downloader.py:396\u001b[39m, in \u001b[36m_download\u001b[39m\u001b[34m(name)\u001b[39m\n\u001b[32m    394\u001b[39m fname = \u001b[33m\"\u001b[39m\u001b[38;5;132;01m{fname}\u001b[39;00m\u001b[33m.gz\u001b[39m\u001b[33m\"\u001b[39m.format(fname=name)\n\u001b[32m    395\u001b[39m dst_path = os.path.join(tmp_dir, fname)\n\u001b[32m--> \u001b[39m\u001b[32m396\u001b[39m \u001b[43murllib\u001b[49m\u001b[43m.\u001b[49m\u001b[43murlretrieve\u001b[49m\u001b[43m(\u001b[49m\u001b[43murl_data\u001b[49m\u001b[43m,\u001b[49m\u001b[43m \u001b[49m\u001b[43mdst_path\u001b[49m\u001b[43m,\u001b[49m\u001b[43m \u001b[49m\u001b[43mreporthook\u001b[49m\u001b[43m=\u001b[49m\u001b[43m_progress\u001b[49m\u001b[43m)\u001b[49m\n\u001b[32m    397\u001b[39m \u001b[38;5;28;01mif\u001b[39;00m _calculate_md5_checksum(dst_path) == _get_checksum(name):\n\u001b[32m    398\u001b[39m     sys.stdout.write(\u001b[33m\"\u001b[39m\u001b[38;5;130;01m\\n\u001b[39;00m\u001b[33m\"\u001b[39m)\n",
      "\u001b[36mFile \u001b[39m\u001b[32md:\\Data science\\Python\\venv\\Lib\\urllib\\request.py:273\u001b[39m, in \u001b[36murlretrieve\u001b[39m\u001b[34m(url, filename, reporthook, data)\u001b[39m\n\u001b[32m    271\u001b[39m             blocknum += \u001b[32m1\u001b[39m\n\u001b[32m    272\u001b[39m             \u001b[38;5;28;01mif\u001b[39;00m reporthook:\n\u001b[32m--> \u001b[39m\u001b[32m273\u001b[39m                 \u001b[43mreporthook\u001b[49m\u001b[43m(\u001b[49m\u001b[43mblocknum\u001b[49m\u001b[43m,\u001b[49m\u001b[43m \u001b[49m\u001b[43mbs\u001b[49m\u001b[43m,\u001b[49m\u001b[43m \u001b[49m\u001b[43msize\u001b[49m\u001b[43m)\u001b[49m\n\u001b[32m    275\u001b[39m \u001b[38;5;28;01mif\u001b[39;00m size >= \u001b[32m0\u001b[39m \u001b[38;5;129;01mand\u001b[39;00m read < size:\n\u001b[32m    276\u001b[39m     \u001b[38;5;28;01mraise\u001b[39;00m ContentTooShortError(\n\u001b[32m    277\u001b[39m         \u001b[33m\"\u001b[39m\u001b[33mretrieval incomplete: got only \u001b[39m\u001b[38;5;132;01m%i\u001b[39;00m\u001b[33m out of \u001b[39m\u001b[38;5;132;01m%i\u001b[39;00m\u001b[33m bytes\u001b[39m\u001b[33m\"\u001b[39m\n\u001b[32m    278\u001b[39m         % (read, size), result)\n",
      "\u001b[36mFile \u001b[39m\u001b[32md:\\Data science\\Python\\venv\\Lib\\site-packages\\gensim\\downloader.py:129\u001b[39m, in \u001b[36m_progress\u001b[39m\u001b[34m(chunks_downloaded, chunk_size, total_size, part, total_parts)\u001b[39m\n\u001b[32m    122\u001b[39m \u001b[38;5;28;01mif\u001b[39;00m total_parts == \u001b[32m1\u001b[39m:\n\u001b[32m    123\u001b[39m     sys.stdout.write(\n\u001b[32m    124\u001b[39m         \u001b[33m'\u001b[39m\u001b[38;5;130;01m\\r\u001b[39;00m\u001b[33m[\u001b[39m\u001b[38;5;132;01m%s\u001b[39;00m\u001b[33m] \u001b[39m\u001b[38;5;132;01m%s\u001b[39;00m\u001b[38;5;132;01m%s\u001b[39;00m\u001b[33m \u001b[39m\u001b[38;5;132;01m%s\u001b[39;00m\u001b[33m/\u001b[39m\u001b[38;5;132;01m%s\u001b[39;00m\u001b[33mMB downloaded\u001b[39m\u001b[33m'\u001b[39m % (\n\u001b[32m    125\u001b[39m             bar, percent_downloaded, \u001b[33m\"\u001b[39m\u001b[33m%\u001b[39m\u001b[33m\"\u001b[39m,\n\u001b[32m    126\u001b[39m             \u001b[38;5;28mround\u001b[39m(size_downloaded / (\u001b[32m1024\u001b[39m * \u001b[32m1024\u001b[39m), \u001b[32m1\u001b[39m),\n\u001b[32m    127\u001b[39m             \u001b[38;5;28mround\u001b[39m(\u001b[38;5;28mfloat\u001b[39m(total_size) / (\u001b[32m1024\u001b[39m * \u001b[32m1024\u001b[39m), \u001b[32m1\u001b[39m))\n\u001b[32m    128\u001b[39m     )\n\u001b[32m--> \u001b[39m\u001b[32m129\u001b[39m     \u001b[43msys\u001b[49m\u001b[43m.\u001b[49m\u001b[43mstdout\u001b[49m\u001b[43m.\u001b[49m\u001b[43mflush\u001b[49m\u001b[43m(\u001b[49m\u001b[43m)\u001b[49m\n\u001b[32m    130\u001b[39m \u001b[38;5;28;01melse\u001b[39;00m:\n\u001b[32m    131\u001b[39m     sys.stdout.write(\n\u001b[32m    132\u001b[39m         \u001b[33m'\u001b[39m\u001b[38;5;130;01m\\r\u001b[39;00m\u001b[33m Part \u001b[39m\u001b[38;5;132;01m%s\u001b[39;00m\u001b[33m/\u001b[39m\u001b[38;5;132;01m%s\u001b[39;00m\u001b[33m [\u001b[39m\u001b[38;5;132;01m%s\u001b[39;00m\u001b[33m] \u001b[39m\u001b[38;5;132;01m%s\u001b[39;00m\u001b[38;5;132;01m%s\u001b[39;00m\u001b[33m \u001b[39m\u001b[38;5;132;01m%s\u001b[39;00m\u001b[33m/\u001b[39m\u001b[38;5;132;01m%s\u001b[39;00m\u001b[33mMB downloaded\u001b[39m\u001b[33m'\u001b[39m % (\n\u001b[32m    133\u001b[39m             part + \u001b[32m1\u001b[39m, total_parts, bar, percent_downloaded, \u001b[33m\"\u001b[39m\u001b[33m%\u001b[39m\u001b[33m\"\u001b[39m,\n\u001b[32m    134\u001b[39m             \u001b[38;5;28mround\u001b[39m(size_downloaded / (\u001b[32m1024\u001b[39m * \u001b[32m1024\u001b[39m), \u001b[32m1\u001b[39m),\n\u001b[32m    135\u001b[39m             \u001b[38;5;28mround\u001b[39m(\u001b[38;5;28mfloat\u001b[39m(total_size) / (\u001b[32m1024\u001b[39m * \u001b[32m1024\u001b[39m), \u001b[32m1\u001b[39m))\n\u001b[32m    136\u001b[39m     )\n",
      "\u001b[36mFile \u001b[39m\u001b[32md:\\Data science\\Python\\venv\\Lib\\site-packages\\ipykernel\\iostream.py:609\u001b[39m, in \u001b[36mOutStream.flush\u001b[39m\u001b[34m(self)\u001b[39m\n\u001b[32m    607\u001b[39m     \u001b[38;5;28mself\u001b[39m.pub_thread.schedule(evt.set)\n\u001b[32m    608\u001b[39m     \u001b[38;5;66;03m# and give a timeout to avoid\u001b[39;00m\n\u001b[32m--> \u001b[39m\u001b[32m609\u001b[39m     \u001b[38;5;28;01mif\u001b[39;00m \u001b[38;5;129;01mnot\u001b[39;00m \u001b[43mevt\u001b[49m\u001b[43m.\u001b[49m\u001b[43mwait\u001b[49m\u001b[43m(\u001b[49m\u001b[38;5;28;43mself\u001b[39;49m\u001b[43m.\u001b[49m\u001b[43mflush_timeout\u001b[49m\u001b[43m)\u001b[49m:\n\u001b[32m    610\u001b[39m         \u001b[38;5;66;03m# write directly to __stderr__ instead of warning because\u001b[39;00m\n\u001b[32m    611\u001b[39m         \u001b[38;5;66;03m# if this is happening sys.stderr may be the problem.\u001b[39;00m\n\u001b[32m    612\u001b[39m         \u001b[38;5;28mprint\u001b[39m(\u001b[33m\"\u001b[39m\u001b[33mIOStream.flush timed out\u001b[39m\u001b[33m\"\u001b[39m, file=sys.__stderr__)\n\u001b[32m    613\u001b[39m \u001b[38;5;28;01melse\u001b[39;00m:\n",
      "\u001b[36mFile \u001b[39m\u001b[32md:\\Data science\\Python\\venv\\Lib\\threading.py:634\u001b[39m, in \u001b[36mEvent.wait\u001b[39m\u001b[34m(self, timeout)\u001b[39m\n\u001b[32m    632\u001b[39m signaled = \u001b[38;5;28mself\u001b[39m._flag\n\u001b[32m    633\u001b[39m \u001b[38;5;28;01mif\u001b[39;00m \u001b[38;5;129;01mnot\u001b[39;00m signaled:\n\u001b[32m--> \u001b[39m\u001b[32m634\u001b[39m     signaled = \u001b[38;5;28;43mself\u001b[39;49m\u001b[43m.\u001b[49m\u001b[43m_cond\u001b[49m\u001b[43m.\u001b[49m\u001b[43mwait\u001b[49m\u001b[43m(\u001b[49m\u001b[43mtimeout\u001b[49m\u001b[43m)\u001b[49m\n\u001b[32m    635\u001b[39m \u001b[38;5;28;01mreturn\u001b[39;00m signaled\n",
      "\u001b[36mFile \u001b[39m\u001b[32md:\\Data science\\Python\\venv\\Lib\\threading.py:338\u001b[39m, in \u001b[36mCondition.wait\u001b[39m\u001b[34m(self, timeout)\u001b[39m\n\u001b[32m    336\u001b[39m \u001b[38;5;28;01melse\u001b[39;00m:\n\u001b[32m    337\u001b[39m     \u001b[38;5;28;01mif\u001b[39;00m timeout > \u001b[32m0\u001b[39m:\n\u001b[32m--> \u001b[39m\u001b[32m338\u001b[39m         gotit = \u001b[43mwaiter\u001b[49m\u001b[43m.\u001b[49m\u001b[43macquire\u001b[49m\u001b[43m(\u001b[49m\u001b[38;5;28;43;01mTrue\u001b[39;49;00m\u001b[43m,\u001b[49m\u001b[43m \u001b[49m\u001b[43mtimeout\u001b[49m\u001b[43m)\u001b[49m\n\u001b[32m    339\u001b[39m     \u001b[38;5;28;01melse\u001b[39;00m:\n\u001b[32m    340\u001b[39m         gotit = waiter.acquire(\u001b[38;5;28;01mFalse\u001b[39;00m)\n",
      "\u001b[31mKeyboardInterrupt\u001b[39m: "
     ]
    }
   ],
   "source": [
    "import gensim.downloader as api\n",
    "\n",
    "wv = api.load('word2vec-google-news-300')\n",
    "\n",
    "vec_king = wv['king']\n",
    "     "
   ]
  },
  {
   "cell_type": "code",
   "execution_count": null,
   "id": "48c81632",
   "metadata": {},
   "outputs": [],
   "source": []
  },
  {
   "cell_type": "code",
   "execution_count": null,
   "id": "f4cf7532",
   "metadata": {},
   "outputs": [],
   "source": []
  },
  {
   "cell_type": "code",
   "execution_count": null,
   "id": "a1f61a2b",
   "metadata": {},
   "outputs": [],
   "source": []
  }
 ],
 "metadata": {
  "kernelspec": {
   "display_name": "Python 3",
   "language": "python",
   "name": "python3"
  },
  "language_info": {
   "codemirror_mode": {
    "name": "ipython",
    "version": 3
   },
   "file_extension": ".py",
   "mimetype": "text/x-python",
   "name": "python",
   "nbconvert_exporter": "python",
   "pygments_lexer": "ipython3",
   "version": "3.12.0"
  }
 },
 "nbformat": 4,
 "nbformat_minor": 5
}
