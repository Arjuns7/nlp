{
 "cells": [
  {
   "cell_type": "code",
   "execution_count": 1,
   "id": "375a43c1",
   "metadata": {},
   "outputs": [],
   "source": [
    "from nltk.tokenize import sent_tokenize"
   ]
  },
  {
   "cell_type": "code",
   "execution_count": 2,
   "id": "f9f8ab11",
   "metadata": {},
   "outputs": [],
   "source": [
    "\n",
    "paragraph ='''The sun's dipped below the horizon, painting the sky with hues of amber and rose. \n",
    "A soft breeze rustled the leaves, carrying with it the scent of jasmine. \n",
    "In that quiet moment, the world seemed to pause, wrapped in golden stillness.'''"
   ]
  },
  {
   "cell_type": "code",
   "execution_count": 3,
   "id": "3fd3fc60",
   "metadata": {},
   "outputs": [
    {
     "data": {
      "text/plain": [
       "[\"The sun's dipped below the horizon, painting the sky with hues of amber and rose.\",\n",
       " 'A soft breeze rustled the leaves, carrying with it the scent of jasmine.',\n",
       " 'In that quiet moment, the world seemed to pause, wrapped in golden stillness.']"
      ]
     },
     "execution_count": 3,
     "metadata": {},
     "output_type": "execute_result"
    }
   ],
   "source": [
    "sent_tokenize(paragraph)"
   ]
  },
  {
   "cell_type": "code",
   "execution_count": 4,
   "id": "94dae74f",
   "metadata": {},
   "outputs": [
    {
     "data": {
      "text/plain": [
       "['The',\n",
       " 'sun',\n",
       " \"'s\",\n",
       " 'dipped',\n",
       " 'below',\n",
       " 'the',\n",
       " 'horizon',\n",
       " ',',\n",
       " 'painting',\n",
       " 'the',\n",
       " 'sky',\n",
       " 'with',\n",
       " 'hues',\n",
       " 'of',\n",
       " 'amber',\n",
       " 'and',\n",
       " 'rose',\n",
       " '.',\n",
       " 'A',\n",
       " 'soft',\n",
       " 'breeze',\n",
       " 'rustled',\n",
       " 'the',\n",
       " 'leaves',\n",
       " ',',\n",
       " 'carrying',\n",
       " 'with',\n",
       " 'it',\n",
       " 'the',\n",
       " 'scent',\n",
       " 'of',\n",
       " 'jasmine',\n",
       " '.',\n",
       " 'In',\n",
       " 'that',\n",
       " 'quiet',\n",
       " 'moment',\n",
       " ',',\n",
       " 'the',\n",
       " 'world',\n",
       " 'seemed',\n",
       " 'to',\n",
       " 'pause',\n",
       " ',',\n",
       " 'wrapped',\n",
       " 'in',\n",
       " 'golden',\n",
       " 'stillness',\n",
       " '.']"
      ]
     },
     "execution_count": 4,
     "metadata": {},
     "output_type": "execute_result"
    }
   ],
   "source": [
    "from nltk.tokenize import word_tokenize\n",
    "\n",
    "word_tokenize(paragraph)"
   ]
  },
  {
   "cell_type": "code",
   "execution_count": 5,
   "id": "b120458f",
   "metadata": {},
   "outputs": [
    {
     "data": {
      "text/plain": [
       "['The',\n",
       " 'sun',\n",
       " \"'\",\n",
       " 's',\n",
       " 'dipped',\n",
       " 'below',\n",
       " 'the',\n",
       " 'horizon',\n",
       " ',',\n",
       " 'painting',\n",
       " 'the',\n",
       " 'sky',\n",
       " 'with',\n",
       " 'hues',\n",
       " 'of',\n",
       " 'amber',\n",
       " 'and',\n",
       " 'rose',\n",
       " '.',\n",
       " 'A',\n",
       " 'soft',\n",
       " 'breeze',\n",
       " 'rustled',\n",
       " 'the',\n",
       " 'leaves',\n",
       " ',',\n",
       " 'carrying',\n",
       " 'with',\n",
       " 'it',\n",
       " 'the',\n",
       " 'scent',\n",
       " 'of',\n",
       " 'jasmine',\n",
       " '.',\n",
       " 'In',\n",
       " 'that',\n",
       " 'quiet',\n",
       " 'moment',\n",
       " ',',\n",
       " 'the',\n",
       " 'world',\n",
       " 'seemed',\n",
       " 'to',\n",
       " 'pause',\n",
       " ',',\n",
       " 'wrapped',\n",
       " 'in',\n",
       " 'golden',\n",
       " 'stillness',\n",
       " '.']"
      ]
     },
     "execution_count": 5,
     "metadata": {},
     "output_type": "execute_result"
    }
   ],
   "source": [
    "from nltk.tokenize import wordpunct_tokenize\n",
    "wordpunct_tokenize(paragraph)"
   ]
  },
  {
   "cell_type": "code",
   "execution_count": 9,
   "id": "943904e3",
   "metadata": {},
   "outputs": [
    {
     "data": {
      "text/plain": [
       "['The',\n",
       " 'sun',\n",
       " \"'s\",\n",
       " 'dipped',\n",
       " 'below',\n",
       " 'the',\n",
       " 'horizon',\n",
       " ',',\n",
       " 'painting',\n",
       " 'the',\n",
       " 'sky',\n",
       " 'with',\n",
       " 'hues',\n",
       " 'of',\n",
       " 'amber',\n",
       " 'and',\n",
       " 'rose.',\n",
       " 'A',\n",
       " 'soft',\n",
       " 'breeze',\n",
       " 'rustled',\n",
       " 'the',\n",
       " 'leaves',\n",
       " ',',\n",
       " 'carrying',\n",
       " 'with',\n",
       " 'it',\n",
       " 'the',\n",
       " 'scent',\n",
       " 'of',\n",
       " 'jasmine.',\n",
       " 'In',\n",
       " 'that',\n",
       " 'quiet',\n",
       " 'moment',\n",
       " ',',\n",
       " 'the',\n",
       " 'world',\n",
       " 'seemed',\n",
       " 'to',\n",
       " 'pause',\n",
       " ',',\n",
       " 'wrapped',\n",
       " 'in',\n",
       " 'golden',\n",
       " 'stillness',\n",
       " '.']"
      ]
     },
     "execution_count": 9,
     "metadata": {},
     "output_type": "execute_result"
    }
   ],
   "source": [
    "from nltk.tokenize import TreebankWordTokenizer\n",
    "\n",
    "tokenizer = TreebankWordTokenizer()\n",
    "\n",
    "tokenizer.tokenize(paragraph)"
   ]
  },
  {
   "cell_type": "code",
   "execution_count": null,
   "id": "4ac6f9d0",
   "metadata": {},
   "outputs": [],
   "source": []
  },
  {
   "cell_type": "code",
   "execution_count": null,
   "id": "edfa7e48",
   "metadata": {},
   "outputs": [],
   "source": []
  }
 ],
 "metadata": {
  "kernelspec": {
   "display_name": "Python 3",
   "language": "python",
   "name": "python3"
  },
  "language_info": {
   "codemirror_mode": {
    "name": "ipython",
    "version": 3
   },
   "file_extension": ".py",
   "mimetype": "text/x-python",
   "name": "python",
   "nbconvert_exporter": "python",
   "pygments_lexer": "ipython3",
   "version": "3.12.0"
  }
 },
 "nbformat": 4,
 "nbformat_minor": 5
}
